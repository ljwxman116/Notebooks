{
 "cells": [
  {
   "cell_type": "code",
   "execution_count": 1,
   "metadata": {
    "collapsed": false
   },
   "outputs": [],
   "source": [
    "%matplotlib inline\n",
    "import matplotlib\n",
    "import os\n",
    "import urllib2\n",
    "import pyart\n",
    "#import numpy as np\n",
    "import matplotlib.pyplot as plt\n",
    "matplotlib.rcParams['figure.figsize'] = [12.0, 9.0]"
   ]
  },
  {
   "cell_type": "code",
   "execution_count": 4,
   "metadata": {
    "collapsed": false
   },
   "outputs": [
    {
     "name": "stdout",
     "output_type": "stream",
     "text": [
      "Reday!\n"
     ]
    }
   ],
   "source": [
    "class Get88D(object):\n",
    "    \"\"\"\n",
    "    A class mentod to retrieve and plot NEXRAD data.\n",
    "    \n",
    "    The metar retrieval is a modification of code found at:\n",
    "    https://github.com/akrherz/iem/blob/master/scripts/asos/iem_scraper_example.py\n",
    "    \n",
    "    It is dependent upon the Iowa State Mesonet database.\n",
    "    \"\"\"\n",
    "    def __init__(self, radarID):\n",
    "        '''Initialize the class'''\n",
    "\n",
    "        # Set date formats to be used with datetime\n",
    "        self.d_fmt = \"%Y-%m-%d %H:%M\"\n",
    "        self.dout_fmt = \"%Y-%m-%d_%H:%M\"\n",
    "        \n",
    "        # Use passed arguments\n",
    "        self.radarID = radarID\n",
    "\n",
    "    def get_data(self):\n",
    "        '''Function to return metar data and create output text file'''\n",
    "        # Query the radarID directory to get file list\n",
    "        SERVICE = \"http://nomads.ncep.noaa.gov/pub/data/nccf/radar/nexrad_level2\"\n",
    "        nexurl = '%s/%s/'%(SERVICE, self.radarID)\n",
    "        response = urllib2.urlopen(\"%s%s\"%(nexurl, \"dir.list\"))\n",
    "        self.list88D = response.read().split(\"\\n\")\n",
    "        \n",
    "        # At this point you have a list of data files, BUT there are 2 columns\n",
    "        # col 1 = file size, col2 = filename\n",
    "        \n",
    "        # Now grab the latest data file and save it locally to open\n",
    "        data = urllib2.urlopen(\"%s%s\"%(nexurl,self.list88D[-2].split(\" \")[1]))\n",
    "        with open(\"latest88D.bz\", \"wb\") as code:\n",
    "            code.write(data.read())\n",
    "\n",
    "    def plot_nexrad(self, vmin=None, vmax=None, xlims=None, ylims=None):\n",
    "        '''Create a plot'''\n",
    "        # Create a PyArt radar instance\n",
    "        fig, ax = plt.subplots()\n",
    "        #ax = plt.axes()\n",
    "        self.r=pyart.io.read_nexrad_archive(\"latest88D.bz\")\n",
    "        display=pyart.graph.RadarMapDisplay(self.r)\n",
    "        display.plot('reflectivity',0, vmin=vmin, vmax=vmax, cmap=\"pyart_Carbone42\")#pyart_Carbone42\n",
    "        if xlims is None:\n",
    "            xlims = (-200, 100)\n",
    "        if ylims is None:\n",
    "            ylims = (-50, 200)\n",
    "        display.set_limits(xlims, ylims)\n",
    "        \n",
    "    def remove_bz(self):\n",
    "        os.remove(\"latest88D.bz\")\n",
    "print'Reday!'"
   ]
  },
  {
   "cell_type": "code",
   "execution_count": null,
   "metadata": {
    "collapsed": false
   },
   "outputs": [],
   "source": [
    "radarID = \"KFWS\"\n",
    "Radar = Get88D(radarID)\n",
    "Radar.get_data()\n",
    "Radar.plot_nexrad(vmin=5, vmax=60)\n",
    "Radar.remove_bz()"
   ]
  },
  {
   "cell_type": "code",
   "execution_count": null,
   "metadata": {
    "collapsed": true
   },
   "outputs": [],
   "source": [
    "'''\n",
    "Possible cmap:\n",
    "\n",
    "Spectral, summer, coolwarm, Wistia_r, pyart_Theodore16, pink_r, Set1, Set2, Set3, brg_r, pyart_SCook18, \n",
    "pyart_BuDOr18_r, pyart_BlueBrown11_r, pyart_BuDRd12_r, Dark2, prism, PuOr_r, afmhot_r, pyart_Wild25_r, \n",
    "pyart_Carbone11, terrain_r, PuBuGn_r, RdPu, gist_ncar_r, pyart_Carbone42_r, pyart_Carbone17, gist_yarg_r, \n",
    "Dark2_r, YlGnBu, pyart_NWS_SPW, RdYlBu, hot_r, gist_rainbow_r, pyart_PD17_r, gist_stern, PuBu_r, cool_r, \n",
    "cool, gray, copper_r, pyart_Gray9_r, Greens_r, GnBu, gist_ncar, spring_r, pyart_BuOr10_r, gist_rainbow, \n",
    "gist_heat_r, Wistia, OrRd_r, CMRmap, bone, pyart_BuGy8, gist_stern_r, RdYlGn, Pastel2_r, pyart_RRate11_r, \n",
    "spring, terrain, YlOrRd_r, Set2_r, pyart_StepSeq25, winter_r, PuBu, RdGy_r, pyart_BlueBrown11, pyart_BlueBrown10, \n",
    "spectral, rainbow, flag_r, pyart_BuOrR14, jet_r, RdPu_r, pyart_BuOr8_r, gist_yarg, pyart_Carbone17_r, BuGn, \n",
    "pyart_LangRainbow12, Paired_r, pyart_SCook18_r, pyart_BuGy8_r, hsv_r, pyart_BrBu12_r, bwr, cubehelix, Greens, \n",
    "pyart_BuOrR14_r, PRGn, gist_heat, spectral_r, pyart_BuDOr12_r, Paired, pyart_RdYlBu11b_r, hsv, pyart_BrBu12, \n",
    "pyart_BrBu10_r, Oranges_r, prism_r, pyart_SymGray12_r, pyart_RdYlBu11b, Pastel2, pyart_Bu10, Pastel1_r, Pastel1, \n",
    "gray_r, jet, pyart_GrMg16_r, Spectral_r, pyart_RefDiff_r, pyart_Wild25, gnuplot2_r, gist_earth, YlGnBu_r, copper, \n",
    "gist_earth_r, Set3_r, pyart_BuDRd18_r, pyart_BrBu10, OrRd, gnuplot_r, pyart_BuOr10, ocean_r, brg, gnuplot2, \n",
    "pyart_GrMg16, pyart_NWSRef, PuRd_r, bone_r, BuPu, pyart_NWSRef_r, Oranges, RdYlGn_r, PiYG, pyart_NWSVel, \n",
    "pyart_EWilson17, pyart_Bu10_r, CMRmap_r, YlGn, pyart_Carbone11_r, pyart_LangRainbow12_r, binary_r, gist_gray_r, \n",
    "Accent, BuPu_r, pyart_NWSVel_r, gist_gray, flag, bwr_r, pyart_BuDOr12, RdBu_r, BrBG, pyart_BuDOr18, Reds, \n",
    "pyart_BuOr12, Set1_r, summer_r, GnBu_r, pyart_RefDiff, pyart_SymGray12, BrBG_r, Reds_r, RdGy, pyart_Bu7_r, \n",
    "pyart_BuOr8, PuRd, pyart_EWilson17_r, Accent_r, Blues, pyart_Gray5_r, pyart_BuOr12_r, pyart_Carbone42, pyart_Bu7, \n",
    "pyart_BuGr14_r, autumn_r, autumn, cubehelix_r, pyart_Cat12_r, nipy_spectral_r, ocean, PRGn_r, pyart_BlueBrown10_r, \n",
    "Greys_r, pink, binary, winter, gnuplot, pyart_BuDRd18, RdYlBu_r, pyart_Theodore16_r, hot, pyart_BuGr14, YlOrBr, \n",
    "coolwarm_r, rainbow_r, pyart_NWS_SPW_r, pyart_Cat12, pyart_RRate11, Purples_r, PiYG_r, YlGn_r, Blues_r, YlOrBr_r, \n",
    "seismic, Purples, pyart_Gray9, seismic_r, pyart_BuDRd12, RdBu, pyart_Gray5, Greys, BuGn_r, YlOrRd, pyart_PD17, \n",
    "PuOr, pyart_StepSeq25_r, PuBuGn, nipy_spectral, afmhot\n",
    "'''"
   ]
  }
 ],
 "metadata": {
  "kernelspec": {
   "display_name": "Python 2",
   "language": "python",
   "name": "python2"
  },
  "language_info": {
   "codemirror_mode": {
    "name": "ipython",
    "version": 2
   },
   "file_extension": ".py",
   "mimetype": "text/x-python",
   "name": "python",
   "nbconvert_exporter": "python",
   "pygments_lexer": "ipython2",
   "version": "2.7.10"
  }
 },
 "nbformat": 4,
 "nbformat_minor": 0
}
